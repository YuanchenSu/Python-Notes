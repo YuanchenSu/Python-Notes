{
 "cells": [
  {
   "cell_type": "markdown",
   "metadata": {},
   "source": [
    "# Matlab to Python\n",
    "\n",
    "This notebook walks through replicating the Matlab code in \"Main_Yog_priceonly.m\" and the associated functions. I have added notes before snippets of code where there are small differences with how code might appear in Matlab. \n",
    "\n",
    "There is also an associated script \"matlab_to_python.py\" ready to be run from a terminal. Besides putting the code in a more logical order, there are some other minor differences in that script."
   ]
  },
  {
   "cell_type": "markdown",
   "metadata": {},
   "source": [
    "### Import Modules"
   ]
  },
  {
   "cell_type": "code",
   "execution_count": null,
   "metadata": {
    "collapsed": true
   },
   "outputs": [],
   "source": [
    "from __future__ import division  # Necessary only in Python 2\n",
    "import os\n",
    "\n",
    "import numpy as np\n",
    "import scipy.optimize as opt"
   ]
  },
  {
   "cell_type": "code",
   "execution_count": null,
   "metadata": {
    "collapsed": true
   },
   "outputs": [],
   "source": [
    "home = os.environ['HOME']\n",
    "root = home + '/Dropbox/Instruction/Scraping/maria_ana/for_class'"
   ]
  },
  {
   "cell_type": "markdown",
   "metadata": {},
   "source": [
    "### Set up Data"
   ]
  },
  {
   "cell_type": "markdown",
   "metadata": {},
   "source": [
    "For data saved in standard formats, e.g. csv, where each row represents an observation, it is more efficient to use the module pandas. The resulting data structure in your program is something analagous to a Stata dataset. \n",
    "\n",
    "A numpy import, as demonstrated below, with more freely formatted data is closer to a Matlab import. The resulting data structure is like a vector or matrix in Matlab."
   ]
  },
  {
   "cell_type": "code",
   "execution_count": null,
   "metadata": {
    "collapsed": true
   },
   "outputs": [],
   "source": [
    "yogurt = np.loadtxt(root + '/yogurt.txt')"
   ]
  },
  {
   "cell_type": "markdown",
   "metadata": {},
   "source": [
    "**NB**: Indexing starts with \"0\" not \"1\". Additionally, the index is inclusive at the beginning but not inclusive at the end. "
   ]
  },
  {
   "cell_type": "code",
   "execution_count": null,
   "metadata": {
    "collapsed": true
   },
   "outputs": [],
   "source": [
    "pan = yogurt[:, 0]  # Id Number of Panelists\n",
    "price = yogurt[:, 14:18]  # Prices for the 4 brands\n",
    "choi = yogurt[:, 6:10]  # Brand purchase information\n",
    "n = yogurt.shape[0]  # Shape of the matrix along the first dimension; Equivalent to len(yogurt)\n",
    "o = np.ones((n, 1))  # Create n by 1 matrix of ones; the first argument of the function is the shape"
   ]
  },
  {
   "cell_type": "markdown",
   "metadata": {},
   "source": [
    "Two methods to concatenate Numpy objects are demonstrated below. In line 1, \"price[:, 0]\" generates a vector. In line 2, \"price[:, [1]]\" generates a matrix of size n by 1."
   ]
  },
  {
   "cell_type": "code",
   "execution_count": null,
   "metadata": {
    "collapsed": true
   },
   "outputs": [],
   "source": [
    "yop = np.c_[o, price[:, 0]]  # Concatenate columns\n",
    "dan = np.concatenate((o, price[:, [1]]), axis=1)  # Concatenation along the specified axis (here add a column)\n",
    "hil = np.c_[o, price[:, 2]]\n",
    "wwt = price[:, [3]]"
   ]
  },
  {
   "cell_type": "markdown",
   "metadata": {},
   "source": [
    "### Estimate the Logit Model"
   ]
  },
  {
   "cell_type": "markdown",
   "metadata": {},
   "source": [
    "First I define the log likelihood function to be minimized by the optimizer. Note the \"\\*\" function is like \".\\*\" in Matlab. To do matrix multiplication on, say, A * B, the code is \"A.dot(B)\" (dot for dot product in 2d).\n",
    "\n",
    "**NB**: In Python, variables assigned in the main script do not need to be referenced in functions defined within the program. The variables must be assigned before the function is called (not defined; for example see where functions are define in \"matlab_to_python.py\". These functions, however, cannot manipulate the variables without explicitly marking them as globals within the function."
   ]
  },
  {
   "cell_type": "code",
   "execution_count": null,
   "metadata": {
    "collapsed": true
   },
   "outputs": [],
   "source": [
    "def loglike(param):\n",
    "    e_y = np.exp(yop.dot(param[[0, 3]]))\n",
    "    e_d = np.exp(dan.dot(param[[1, 3]]))\n",
    "    e_h = np.exp(hil.dot(param[[2, 3]]))\n",
    "    e_w = np.exp(wwt.dot(param[[3]]))\n",
    "    \n",
    "    den = e_y + e_d + e_h + e_w\n",
    "    py = e_y / den\n",
    "    pd = e_d / den\n",
    "    ph = e_h / den\n",
    "    pw = e_w / den\n",
    "    p = np.c_[py, pd, ph, pw]\n",
    "    selbmat = choi * p\n",
    "    selb = selbmat.sum(axis=1)  # Sum collapsing the second dimension (columns)\n",
    "    \n",
    "    lselb = np.log(selb)\n",
    "    lpr = -lselb.sum()\n",
    "    \n",
    "    return lpr"
   ]
  },
  {
   "cell_type": "code",
   "execution_count": null,
   "metadata": {
    "collapsed": true
   },
   "outputs": [],
   "source": [
    "X = -np.ones((4, 1))  # Initial values for parameters"
   ]
  },
  {
   "cell_type": "markdown",
   "metadata": {},
   "source": [
    "The \"minimize\" function is the basic optimization tool in Python (from the scipy library). There are a number of methods that can be used with the method specified at the time of calling the functions."
   ]
  },
  {
   "cell_type": "code",
   "execution_count": null,
   "metadata": {
    "collapsed": true
   },
   "outputs": [],
   "source": [
    "bfgs_options = {'maxiter': 100000, \n",
    "                'maxfun': 100000, \n",
    "                'ftol': 1e-5,\n",
    "                'disp': False}"
   ]
  },
  {
   "cell_type": "code",
   "execution_count": null,
   "metadata": {
    "collapsed": true
   },
   "outputs": [],
   "source": [
    "results = opt.minimize(loglike, X, method='L-BFGS-B', options=bfgs_options)\n",
    "xfinal = results['x']  # The results object is a dictionary of various outputs"
   ]
  },
  {
   "cell_type": "code",
   "execution_count": null,
   "metadata": {
    "scrolled": false
   },
   "outputs": [],
   "source": [
    "print(xfinal)"
   ]
  },
  {
   "cell_type": "markdown",
   "metadata": {},
   "source": [
    "### Calculate the standard errors of the estimates"
   ]
  },
  {
   "cell_type": "markdown",
   "metadata": {},
   "source": [
    "**NB**: Unlike in Matlab, in numpy assigning an array to another does not create a copy of that array. For example, if in line 7 below I assigned \"param\" to \"bj\" without copy, any changes to \"bj\", as in line 9, would also be applied to the original \"param\"."
   ]
  },
  {
   "cell_type": "code",
   "execution_count": null,
   "metadata": {
    "collapsed": true
   },
   "outputs": [],
   "source": [
    "def likfunction(param):\n",
    "    e_y = np.exp(yop.dot(param[[0, 3]]))\n",
    "    e_d = np.exp(dan.dot(param[[1, 3]]))\n",
    "    e_h = np.exp(hil.dot(param[[2, 3]]))\n",
    "    e_w = np.exp(wwt.dot(param[[3]]))\n",
    "    \n",
    "    den = e_y + e_d + e_h + e_w\n",
    "    py = e_y / den\n",
    "    pd = e_d / den\n",
    "    ph = e_h / den\n",
    "    pw = e_w / den\n",
    "    p = np.c_[py, pd, ph, pw]\n",
    "    selbmat = choi * p\n",
    "    selb = selbmat.sum(axis=1)\n",
    "    \n",
    "    lselb = np.log(selb)\n",
    "    \n",
    "    return lselb"
   ]
  },
  {
   "cell_type": "code",
   "execution_count": null,
   "metadata": {
    "collapsed": true
   },
   "outputs": [],
   "source": [
    "def serrors_basic_logit(param):\n",
    "    no_params = param.shape[0]\n",
    "    H = np.zeros((no_params, no_params))\n",
    "    di = np.zeros((n, no_params))\n",
    "    \n",
    "    for l in xrange(no_params):\n",
    "        bj = param.copy()\n",
    "        bj2 = param.copy()\n",
    "        bj[l] = .05 + param[l]\n",
    "        di[:, l] = (likfunction(bj2) - likfunction(bj)) / .05\n",
    "        \n",
    "    for i in xrange(n):\n",
    "        H += di[[i], :].T.dot(di[[i], :]) \n",
    "        \n",
    "    serrors = np.sqrt(np.diag(np.linalg.inv(H)))\n",
    "    \n",
    "    return serrors"
   ]
  },
  {
   "cell_type": "code",
   "execution_count": null,
   "metadata": {
    "scrolled": true
   },
   "outputs": [],
   "source": [
    "serrors = serrors_basic_logit(xfinal)\n",
    "tstats = xfinal / serrors\n",
    "print(np.c_[xfinal, serrors, tstats])"
   ]
  }
 ],
 "metadata": {
  "kernelspec": {
   "display_name": "Python 2",
   "language": "python",
   "name": "python2"
  },
  "language_info": {
   "codemirror_mode": {
    "name": "ipython",
    "version": 2
   },
   "file_extension": ".py",
   "mimetype": "text/x-python",
   "name": "python",
   "nbconvert_exporter": "python",
   "pygments_lexer": "ipython2",
   "version": "2.7.14"
  }
 },
 "nbformat": 4,
 "nbformat_minor": 2
}
